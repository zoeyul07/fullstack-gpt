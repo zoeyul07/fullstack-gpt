{
 "cells": [
  {
   "cell_type": "code",
   "execution_count": 15,
   "metadata": {},
   "outputs": [
    {
     "name": "stdout",
     "output_type": "stream",
     "text": [
      "Hello! How can I assist you today?The distance between Mexico and Thailand is approximately 16,000 kilometers (9,942 miles) when measured in a straight line."
     ]
    },
    {
     "data": {
      "text/plain": [
       "'The distance between Mexico and Thailand is approximately 16,000 kilometers (9,942 miles) when measured in a straight line.'"
      ]
     },
     "execution_count": 15,
     "metadata": {},
     "output_type": "execute_result"
    }
   ],
   "source": [
    "from langchain.chat_models import ChatOpenAI\n",
    "# promptTemplate은 그냥 string을 이용해서 template을 만들고 ChatPromptTemplate은 template을 message로 부터 만든다.\n",
    "from langchain.prompts import PromptTemplate\n",
    "from langchain.callbacks import StreamingStdOutCallbackHandler\n",
    "\n",
    "#값이 높아질수록 더 많은 창의성과 무작위성을 갖게된다.\n",
    "chat = ChatOpenAI(\n",
    "  temperature=0.1, \n",
    "  #응답이 끝날때까지 기다리는 것이 아니라 모델의 응답이 생성되는것을 볼 수 있게 해준다.\n",
    "  streaming=True,\n",
    "  #문자가 생길때마다 print 해줘서 console에서 응답의 진행을 볼 수 있음\n",
    "  callbacks=[\n",
    "    StreamingStdOutCallbackHandler()\n",
    "  ]\n",
    ")\n",
    "\n",
    "#단순 텍스트 predict\n",
    "chat.predict(\"...\")\n",
    "\n",
    "template = PromptTemplate.from_template(\"What is the distance between {country_a} and {country_b}.\")\n",
    "\n",
    "# template 위쪽에는 개발자들에게 필요한 일종의 검증계층이 있어 실수를 줄일 수 있음\n",
    "#template을 format 하여 Prompt에 저장\n",
    "prompt = template.format(country_a=\"Mexico\", country_b=\"Thailand\" )\n",
    "\n",
    "chat.predict(prompt)\n"
   ]
  },
  {
   "cell_type": "code",
   "execution_count": 5,
   "metadata": {},
   "outputs": [
    {
     "name": "stdout",
     "output_type": "stream",
     "text": [
      "Ciao! La distanza tra il Messico e la Thailandia è di circa 16.000 chilometri. Come mi chiamo? Mi chiamo Palolo!"
     ]
    },
    {
     "data": {
      "text/plain": [
       "AIMessageChunk(content='Ciao! La distanza tra il Messico e la Thailandia è di circa 16.000 chilometri. Come mi chiamo? Mi chiamo Palolo!')"
      ]
     },
     "execution_count": 5,
     "metadata": {},
     "output_type": "execute_result"
    }
   ],
   "source": [
    "from langchain.schema import HumanMessage, AIMessage, SystemMessage\n",
    "\n",
    "#SystemMessage is sent by the system, the AIMessage is sent by the AI and the HumanMessage is sent by the user. They all make up a conversation.\n",
    "message=[\n",
    "  #systemMessage-AI에 일종의 기본 설정, 기본 값, 기본 context 설정, LLM에 설정들을 제공하기 위한 메세지\n",
    "  SystemMessage(content=\"You are a geography expert, And you only reply in Italian\"),\n",
    "  #이미 존재하는 가상 대화 설정, AI가 답변을 한것으로 가정\n",
    "  #값을 메모리에 추가\n",
    "  AIMessage(content=\"Ciao, michiamo Palolo!\"),\n",
    "  #사용자로서 질문\n",
    "  HumanMessage(content=\"What is the distance between Mexico and Thailand. Also, what is your name?\")\n",
    "]\n",
    "\n",
    "# predict message\n",
    "chat.predict_messages(message)\n"
   ]
  },
  {
   "cell_type": "code",
   "execution_count": 6,
   "metadata": {},
   "outputs": [
    {
     "name": "stdout",
     "output_type": "stream",
     "text": [
      "Γεια σας! Το όνομά μου είναι Σωκράτης. Η απόσταση μεταξύ του Μεξικού και της Ταϊλάνδης είναι περίπου 16.000 χιλιόμετρα."
     ]
    },
    {
     "data": {
      "text/plain": [
       "AIMessageChunk(content='Γεια σας! Το όνομά μου είναι Σωκράτης. Η απόσταση μεταξύ του Μεξικού και της Ταϊλάνδης είναι περίπου 16.000 χιλιόμετρα.')"
      ]
     },
     "execution_count": 6,
     "metadata": {},
     "output_type": "execute_result"
    }
   ],
   "source": [
    "from langchain.prompts import ChatPromptTemplate\n",
    "\n",
    "#more customizable\n",
    "template = ChatPromptTemplate.from_messages([\n",
    "  (\"system\", \"You are a geography expert, And you only reply in {language}\"),\n",
    "  (\"ai\", \"Ciao, michiamo {name}!\"),\n",
    "  (\"human\", \"What is the distance between {country_a} and {country_b}. Also, what is your name?\")\n",
    "])\n",
    "\n",
    "#validate variables\n",
    "prompt = template.format_messages(language=\"Greek\", name=\"Socrates\", country_a=\"Mexico\", country_b=\"Thailand\")\n",
    "\n",
    "chat.predict_messages(prompt)\n",
    "\n"
   ]
  },
  {
   "cell_type": "code",
   "execution_count": 7,
   "metadata": {},
   "outputs": [
    {
     "data": {
      "text/plain": [
       "['Hello', 'how', 'are', 'you']"
      ]
     },
     "execution_count": 7,
     "metadata": {},
     "output_type": "execute_result"
    }
   ],
   "source": [
    "# 확장해서 outputPaser 구현\n",
    "from langchain.schema import BaseOutputParser\n",
    "\n",
    "class CommaOutputParser(BaseOutputParser):\n",
    "    def parse(self, text):\n",
    "      #strip-text 앞뒤 공백 자름\n",
    "      items = text.strip().split(\",\")\n",
    "      return list(map(str.strip,items))\n",
    "    \n",
    "p = CommaOutputParser()\n",
    "\n",
    "p.parse(\"Hello, how, are, you\")\n",
    "\n"
   ]
  },
  {
   "cell_type": "code",
   "execution_count": 8,
   "metadata": {},
   "outputs": [
    {
     "name": "stdout",
     "output_type": "stream",
     "text": [
      "mercury, venus, earth, mars, jupiter, saturn, uranus, neptune"
     ]
    },
    {
     "data": {
      "text/plain": [
       "['mercury', 'venus', 'earth', 'mars', 'jupiter', 'saturn', 'uranus', 'neptune']"
      ]
     },
     "execution_count": 8,
     "metadata": {},
     "output_type": "execute_result"
    }
   ],
   "source": [
    "template = ChatPromptTemplate.from_messages([\n",
    "  (\"system\", \"You are a list generating machine. Everything you are asked will be answered with a comma separated list of max {max_items} in lowercase. DoNOT reply with anything else.\"),\n",
    "  (\"human\", \"{question}\")\n",
    "])\n",
    "\n",
    "prompt = template.format_messages(max_items=10, question=\"What are the planets?\")\n",
    "\n",
    "result = chat.predict_messages(prompt)\n",
    "\n",
    "p = CommaOutputParser()\n",
    "\n",
    "p.parse(result.content)"
   ]
  },
  {
   "cell_type": "code",
   "execution_count": 9,
   "metadata": {},
   "outputs": [
    {
     "name": "stdout",
     "output_type": "stream",
     "text": [
      "pikachu, bulbasaur, charmander, squirtle, jigglypuff"
     ]
    },
    {
     "data": {
      "text/plain": [
       "['pikachu', 'bulbasaur', 'charmander', 'squirtle', 'jigglypuff']"
      ]
     },
     "execution_count": 9,
     "metadata": {},
     "output_type": "execute_result"
    }
   ],
   "source": [
    "# | 기호를 통해 chain 생성\n",
    "# langchain이 .format_message호출하고, chat.predict 호출하고, parse를 호출한다.\n",
    "chain = template | chat | CommaOutputParser()\n",
    "\n",
    "#chain_two = template_2 | chat | outputParser\n",
    "#all = chain | chain_two | outputParser\n",
    "\n",
    "chain.invoke({\n",
    "  \"max_items\":5,\n",
    "  \"question\":\"what are th pokemons?\"\n",
    "})"
   ]
  },
  {
   "cell_type": "code",
   "execution_count": 10,
   "metadata": {},
   "outputs": [],
   "source": [
    "chef_prompt = ChatPromptTemplate.from_messages([\n",
    "  (\"system\", \"You are a world-class international chef. You create easy to follow recipes for any type of cuisine with easy to find ingredients.\"), (\"human\", \"I want to cook {cuisine} food,\")\n",
    "])\n",
    "\n",
    "chef_chain = chef_prompt | chat"
   ]
  },
  {
   "cell_type": "code",
   "execution_count": 11,
   "metadata": {},
   "outputs": [
    {
     "name": "stdout",
     "output_type": "stream",
     "text": [
      "Great choice! Indian cuisine is known for its bold flavors and aromatic spices. Let's start with a classic and popular dish - Chicken Tikka Masala. Here's a simple recipe for you to try at home:\n",
      "\n",
      "Chicken Tikka Masala\n",
      "\n",
      "Ingredients:\n",
      "- 1 lb boneless, skinless chicken breasts, cut into bite-sized pieces\n",
      "- 1 cup plain yogurt\n",
      "- 2 tablespoons lemon juice\n",
      "- 2 tablespoons vegetable oil\n",
      "- 1 onion, finely chopped\n",
      "- 3 cloves garlic, minced\n",
      "- 1 tablespoon ginger, minced\n",
      "- 1 can (14 oz) tomato sauce\n",
      "- 1 tablespoon garam masala\n",
      "- 1 teaspoon ground cumin\n",
      "- 1 teaspoon ground coriander\n",
      "- 1 teaspoon paprika\n",
      "- 1/2 teaspoon turmeric\n",
      "- Salt and pepper, to taste\n",
      "- Fresh cilantro, for garnish\n",
      "- Cooked rice or naan, for serving\n",
      "\n",
      "Instructions:\n",
      "1. In a bowl, combine the yogurt, lemon juice, 1 tablespoon of vegetable oil, half of the minced garlic, half of the minced ginger, and a pinch of salt. Add the chicken pieces and marinate for at least 1 hour, or overnight for best results.\n",
      "\n",
      "2. Preheat the oven to 400°F (200°C). Thread the marinated chicken onto skewers and place them on a baking sheet. Bake for 20-25 minutes, or until the chicken is cooked through.\n",
      "\n",
      "3. In a large skillet, heat the remaining tablespoon of vegetable oil over medium heat. Add the chopped onion and cook until softened, about 5 minutes. Add the remaining garlic and ginger, and cook for another minute.\n",
      "\n",
      "4. Stir in the tomato sauce, garam masala, cumin, coriander, paprika, turmeric, salt, and pepper. Simmer for 10-15 minutes, allowing the flavors to meld together.\n",
      "\n",
      "5. Add the cooked chicken tikka to the sauce and simmer for an additional 5 minutes.\n",
      "\n",
      "6. Serve the Chicken Tikka Masala over cooked rice or with naan bread. Garnish with fresh cilantro.\n",
      "\n",
      "Enjoy your homemade Chicken Tikka Masala! Feel free to adjust the spice levels to suit your taste preferences.For a vegetarian version of Chicken Tikka Masala, we can replace the chicken with a plant-based alternative such as tofu or paneer. Here's how you can adapt the recipe:\n",
      "\n",
      "**Vegetarian Tikka Masala**\n",
      "\n",
      "**Ingredients:**\n",
      "- 1 block of firm tofu or paneer, cut into bite-sized cubes\n",
      "- 1 cup plain yogurt (you can use dairy-free yogurt for a vegan version)\n",
      "- 2 tablespoons lemon juice\n",
      "- 2 tablespoons vegetable oil\n",
      "- 1 onion, finely chopped\n",
      "- 3 cloves garlic, minced\n",
      "- 1 tablespoon ginger, minced\n",
      "- 1 can (14 oz) tomato sauce\n",
      "- 1 tablespoon garam masala\n",
      "- 1 teaspoon ground cumin\n",
      "- 1 teaspoon ground coriander\n",
      "- 1 teaspoon paprika\n",
      "- 1/2 teaspoon turmeric\n",
      "- Salt and pepper, to taste\n",
      "- Fresh cilantro, for garnish\n",
      "- Cooked rice or naan, for serving\n",
      "\n",
      "**Instructions:**\n",
      "1. In a bowl, combine the yogurt, lemon juice, 1 tablespoon of vegetable oil, half of the minced garlic, half of the minced ginger, and a pinch of salt. Add the tofu or paneer cubes and marinate for at least 1 hour, or overnight for best results.\n",
      "\n",
      "2. Preheat the oven to 400°F (200°C). Thread the marinated tofu or paneer onto skewers and place them on a baking sheet. Bake for 20-25 minutes, or until the tofu or paneer is slightly browned.\n",
      "\n",
      "3. In a large skillet, heat the remaining tablespoon of vegetable oil over medium heat. Add the chopped onion and cook until softened, about 5 minutes. Add the remaining garlic and ginger, and cook for another minute.\n",
      "\n",
      "4. Stir in the tomato sauce, garam masala, cumin, coriander, paprika, turmeric, salt, and pepper. Simmer for 10-15 minutes, allowing the flavors to meld together.\n",
      "\n",
      "5. Add the baked tofu or paneer to the sauce and simmer for an additional 5 minutes.\n",
      "\n",
      "6. Serve the Vegetarian Tikka Masala over cooked rice or with naan bread. Garnish with fresh cilantro.\n",
      "\n",
      "Enjoy your flavorful Vegetarian Tikka Masala!"
     ]
    },
    {
     "data": {
      "text/plain": [
       "AIMessageChunk(content=\"For a vegetarian version of Chicken Tikka Masala, we can replace the chicken with a plant-based alternative such as tofu or paneer. Here's how you can adapt the recipe:\\n\\n**Vegetarian Tikka Masala**\\n\\n**Ingredients:**\\n- 1 block of firm tofu or paneer, cut into bite-sized cubes\\n- 1 cup plain yogurt (you can use dairy-free yogurt for a vegan version)\\n- 2 tablespoons lemon juice\\n- 2 tablespoons vegetable oil\\n- 1 onion, finely chopped\\n- 3 cloves garlic, minced\\n- 1 tablespoon ginger, minced\\n- 1 can (14 oz) tomato sauce\\n- 1 tablespoon garam masala\\n- 1 teaspoon ground cumin\\n- 1 teaspoon ground coriander\\n- 1 teaspoon paprika\\n- 1/2 teaspoon turmeric\\n- Salt and pepper, to taste\\n- Fresh cilantro, for garnish\\n- Cooked rice or naan, for serving\\n\\n**Instructions:**\\n1. In a bowl, combine the yogurt, lemon juice, 1 tablespoon of vegetable oil, half of the minced garlic, half of the minced ginger, and a pinch of salt. Add the tofu or paneer cubes and marinate for at least 1 hour, or overnight for best results.\\n\\n2. Preheat the oven to 400°F (200°C). Thread the marinated tofu or paneer onto skewers and place them on a baking sheet. Bake for 20-25 minutes, or until the tofu or paneer is slightly browned.\\n\\n3. In a large skillet, heat the remaining tablespoon of vegetable oil over medium heat. Add the chopped onion and cook until softened, about 5 minutes. Add the remaining garlic and ginger, and cook for another minute.\\n\\n4. Stir in the tomato sauce, garam masala, cumin, coriander, paprika, turmeric, salt, and pepper. Simmer for 10-15 minutes, allowing the flavors to meld together.\\n\\n5. Add the baked tofu or paneer to the sauce and simmer for an additional 5 minutes.\\n\\n6. Serve the Vegetarian Tikka Masala over cooked rice or with naan bread. Garnish with fresh cilantro.\\n\\nEnjoy your flavorful Vegetarian Tikka Masala!\")"
      ]
     },
     "execution_count": 11,
     "metadata": {},
     "output_type": "execute_result"
    }
   ],
   "source": [
    "veg_chef_prompt = ChatPromptTemplate.from_messages([\n",
    "  (\"system\", \"You are a vegetarian chef specialized on making traditional recipes vegetarian. You find alternative ingredients and explain their preparation. You don't radically modify the recipe. If there is no alternative for a food just say you don't know how to replace it.\"),\n",
    "  (\"human\", \"{recipe}\")\n",
    "])\n",
    "\n",
    "veg_chain = veg_chef_prompt | chat\n",
    "\n",
    "#runnable map-chef_chain을 먼저 실행하고, 그 결과를 veg_chain으로 전달하도록 한다.\n",
    "final_chain = { \"recipe\" : chef_chain } | veg_chain \n",
    "\n",
    "final_chain.invoke({\n",
    "  \"cuisine\":\"indian\"\n",
    "})"
   ]
  },
  {
   "cell_type": "code",
   "execution_count": 18,
   "metadata": {},
   "outputs": [
    {
     "name": "stdout",
     "output_type": "stream",
     "text": [
      "AI: Here is what I know: \n",
      "    Capital: Berlin\n",
      "    Language: German\n",
      "    Food: Bratwurst and Sauerkraut\n",
      "    Currency: Euro"
     ]
    },
    {
     "data": {
      "text/plain": [
       "AIMessageChunk(content='AI: Here is what I know: \\n    Capital: Berlin\\n    Language: German\\n    Food: Bratwurst and Sauerkraut\\n    Currency: Euro')"
      ]
     },
     "execution_count": 18,
     "metadata": {},
     "output_type": "execute_result"
    }
   ],
   "source": [
    "\n",
    "#FewShot- 모델에게 더 나은 대답을 할 수 있도록 하는 예제들을 준다\n",
    "from langchain.prompts.few_shot import FewShotPromptTemplate\n",
    "\n",
    "examples = [\n",
    "  {\n",
    "    \"question\":\"What do you know about France?\",\n",
    "    \"answer\": \"\"\"Here is what I know: \n",
    "    Capital:paris\n",
    "    Language:French\n",
    "    Food:Wine and Cheese\n",
    "    Currency:Euro\n",
    "    \"\"\",\n",
    "  },\n",
    "  {\n",
    "    \"question\":\"What do you know about Italy?\",\n",
    "    \"answer\": \"\"\"Here is what I know: \n",
    "    Capital:Rome\n",
    "    Language:Italian\n",
    "    Food:Pizza and Pasta\n",
    "    Currency:Euro\n",
    "    \"\"\",\n",
    "  },\n",
    "    {\n",
    "    \"question\":\"What do you know about Greece?\",\n",
    "    \"answer\": \"\"\"Here is what I know: \n",
    "    Capital:Athene\n",
    "    Language:Greek\n",
    "    Food:Souvlaki adn Feta Cheese\n",
    "    Currency:Euro\n",
    "    \"\"\",\n",
    "  }\n",
    "]\n",
    "\n",
    "example_template = \"\"\"\n",
    "  Human:{question}\n",
    "  AI:{answer}\n",
    "\"\"\"\n",
    "\n",
    "example_prompt = PromptTemplate.from_template(example_template)\n",
    "\n",
    "prompt = FewShotPromptTemplate(\n",
    "  example_prompt=example_prompt,\n",
    "  examples=examples,\n",
    "  #형식화된 모든 예제 마지막에 나오는 내용\n",
    "  suffix=\"Human:What do you know about {country}\",\n",
    "  input_variables=[\"country\"]\n",
    ")\n",
    "\n",
    "#prompt.format(country=\"Germany\")\n",
    "chain = prompt | chat\n",
    "\n",
    "chain.invoke({\n",
    "  \"country\":\"Germany\"\n",
    "})"
   ]
  },
  {
   "cell_type": "code",
   "execution_count": 20,
   "metadata": {},
   "outputs": [
    {
     "name": "stdout",
     "output_type": "stream",
     "text": [
      "Here is what I know: \n",
      "    Capital:Berlin\n",
      "    Language:German\n",
      "    Food:Bratwurst and Sauerkraut\n",
      "    Currency:Euro"
     ]
    },
    {
     "data": {
      "text/plain": [
       "AIMessageChunk(content='Here is what I know: \\n    Capital:Berlin\\n    Language:German\\n    Food:Bratwurst and Sauerkraut\\n    Currency:Euro')"
      ]
     },
     "execution_count": 20,
     "metadata": {},
     "output_type": "execute_result"
    }
   ],
   "source": [
    "\n",
    "from langchain.prompts.few_shot import FewShotChatMessagePromptTemplate\n",
    "from langchain.prompts import ChatPromptTemplate\n",
    "\n",
    "examples = [\n",
    "  {\n",
    "    \"country\":\"France\",\n",
    "    \"answer\": \"\"\"Here is what I know: \n",
    "    Capital:paris\n",
    "    Language:French\n",
    "    Food:Wine and Cheese\n",
    "    Currency:Euro\n",
    "    \"\"\",\n",
    "  },\n",
    "  {\n",
    "    \"country\":\"Italy\",\n",
    "    \"answer\": \"\"\"Here is what I know: \n",
    "    Capital:Rome\n",
    "    Language:Italian\n",
    "    Food:Pizza and Pasta\n",
    "    Currency:Euro\n",
    "    \"\"\",\n",
    "  },\n",
    "    {\n",
    "    \"country\":\"Greece\",\n",
    "    \"answer\": \"\"\"Here is what I know: \n",
    "    Capital:Athene\n",
    "    Language:Greek\n",
    "    Food:Souvlaki adn Feta Cheese\n",
    "    Currency:Euro\n",
    "    \"\"\",\n",
    "  }\n",
    "]\n",
    "\n",
    "example_prompt = ChatPromptTemplate.from_messages([\n",
    "  (\"human\", \"What do you know about {country}?\"),\n",
    "  (\"ai\", \"{answer}\")\n",
    "])\n",
    "\n",
    "example_prompt = FewShotChatMessagePromptTemplate(\n",
    "  example_prompt=example_prompt,\n",
    "  examples=examples,\n",
    ")\n",
    "\n",
    "final_prompt = ChatPromptTemplate.from_messages([\n",
    "  (\"system\",\"You are a geography expert, you give short answers\"),\n",
    "  example_prompt,\n",
    "  (\"human\",\"What do you know about {country}\")\n",
    "])\n",
    "\n",
    "#prompt.format(country=\"Germany\")\n",
    "chain = final_prompt | chat\n",
    "\n",
    "chain.invoke({\n",
    "  \"country\":\"Germany\"\n",
    "})"
   ]
  }
 ],
 "metadata": {
  "kernelspec": {
   "display_name": "env",
   "language": "python",
   "name": "python3"
  },
  "language_info": {
   "codemirror_mode": {
    "name": "ipython",
    "version": 3
   },
   "file_extension": ".py",
   "mimetype": "text/x-python",
   "name": "python",
   "nbconvert_exporter": "python",
   "pygments_lexer": "ipython3",
   "version": "3.11.9"
  }
 },
 "nbformat": 4,
 "nbformat_minor": 2
}
