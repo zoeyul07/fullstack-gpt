{
 "cells": [
  {
   "cell_type": "code",
   "execution_count": 3,
   "metadata": {},
   "outputs": [
    {
     "data": {
      "text/plain": [
       "'The distance between Mexico and Thailand is approximately 9,500 miles (15,300 kilometers) when measured in a straight line.'"
      ]
     },
     "execution_count": 3,
     "metadata": {},
     "output_type": "execute_result"
    }
   ],
   "source": [
    "from langchain.chat_models import ChatOpenAI\n",
    "# promptTemplate은 그냥 string을 이용해서 template을 만들고 ChatPromptTemplate은 template을 message로 부터 만든다.\n",
    "from langchain.prompts import PromptTemplate\n",
    "\n",
    "#값이 높아질수록 더 많은 창의성과 무작위성을 갖게된다.\n",
    "chat = ChatOpenAI(temperature=0.1)\n",
    "\n",
    "#단순 텍스트 predict\n",
    "chat.predict(\"...\")\n",
    "\n",
    "template = PromptTemplate.from_template(\"What is the distance between {country_a} and {country_b}.\")\n",
    "\n",
    "# template 위쪽에는 개발자들에게 필요한 일종의 검증계층이 있어 실수를 줄일 수 있음\n",
    "#template을 format 하여 Prompt에 저장\n",
    "prompt = template.format(country_a=\"Mexico\", country_b=\"Thailand\" )\n",
    "\n",
    "chat.predict(prompt)\n"
   ]
  },
  {
   "cell_type": "code",
   "execution_count": null,
   "metadata": {},
   "outputs": [],
   "source": [
    "from langchain.schema import HumanMessage, AIMessage, SystemMessage\n",
    "\n",
    "\n",
    "\n",
    "\n",
    "#SystemMessage is sent by the system, the AIMessage is sent by the AI and the HumanMessage is sent by the user. They all make up a conversation.\n",
    "message=[\n",
    "  #systemMessage-AI에 일종의 기본 설정, 기본 값, 기본 context 설정, LLM에 설정들을 제공하기 위한 메세지\n",
    "  SystemMessage(content=\"You are a geography expert, And you only reply in Italian\"),\n",
    "  #이미 존재하는 가상 대화 설정, AI가 답변을 한것으로 가정\n",
    "  #값을 메모리에 추가\n",
    "  AIMessage(content=\"Ciao, michiamo Palolo!\"),\n",
    "  #사용자로서 질문\n",
    "  HumanMessage(content=\"What is the distance between Mexico and Thailand. Also, what is your name?\")\n",
    "]\n",
    "\n",
    "# predict message\n",
    "chat.predict_messages(message)\n"
   ]
  },
  {
   "cell_type": "code",
   "execution_count": 6,
   "metadata": {},
   "outputs": [
    {
     "data": {
      "text/plain": [
       "AIMessage(content='Γεια σας! Το όνομά μου είναι Σωκράτης. Η απόσταση μεταξύ του Μεξικού και της Ταϊλάνδης είναι περίπου 16.000 χιλιόμετρα.')"
      ]
     },
     "execution_count": 6,
     "metadata": {},
     "output_type": "execute_result"
    }
   ],
   "source": [
    "from langchain.prompts import ChatPromptTemplate\n",
    "from langchain.chat_models import ChatOpenAI\n",
    "\n",
    "\n",
    "chat = ChatOpenAI(temperature=0.1)\n",
    "\n",
    "#more customizable\n",
    "template = ChatPromptTemplate.from_messages([\n",
    "  (\"system\", \"You are a geography expert, And you only reply in {language}\"),\n",
    "  (\"ai\", \"Ciao, michiamo {name}!\"),\n",
    "  (\"human\", \"What is the distance between {country_a} and {country_b}. Also, what is your name?\")\n",
    "])\n",
    "\n",
    "#validate variables\n",
    "prompt = template.format_messages(language=\"Greek\", name=\"Socrates\", country_a=\"Mexico\", country_b=\"Thailand\")\n",
    "\n",
    "chat.predict_messages(prompt)\n",
    "\n"
   ]
  },
  {
   "cell_type": "code",
   "execution_count": null,
   "metadata": {},
   "outputs": [],
   "source": []
  }
 ],
 "metadata": {
  "kernelspec": {
   "display_name": "env",
   "language": "python",
   "name": "python3"
  },
  "language_info": {
   "codemirror_mode": {
    "name": "ipython",
    "version": 3
   },
   "file_extension": ".py",
   "mimetype": "text/x-python",
   "name": "python",
   "nbconvert_exporter": "python",
   "pygments_lexer": "ipython3",
   "version": "3.11.9"
  }
 },
 "nbformat": 4,
 "nbformat_minor": 2
}
