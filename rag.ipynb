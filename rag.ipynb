{
 "cells": [
  {
   "cell_type": "code",
   "execution_count": 1,
   "metadata": {},
   "outputs": [],
   "source": [
    "# pdf를 위한 Loader, docx를 위한 loader... 등 각각의 loader를 찾는 대신 UnstructuredFileLoader를 사용할 수 있음, 각각의 파일을 열기 위해 패키지들을 다운로드할수도 있음\n",
    "from langchain.document_loaders import  TextLoader, PyPDFLoader, UnstructuredFileLoader\n",
    "from langchain.text_splitter import RecursiveCharacterTextSplitter, CharacterTextSplitter\n",
    "\n",
    "#CharaterTextSplitter는 seperator가 따로 있어서 특정 문자열을 찾은 다음에 거기부터 끊는다.\n",
    "#문장의 끝이나 문단의 끝부분마다 끊어준다. 최대한 문장 중간에서 분할하지 않는다.\n",
    "splitter = RecursiveCharacterTextSplitter(\n",
    "  chunk_size=200,\n",
    "  #위에것만 사용하면 문단 중간에 그냥 잘릴수도 있음, 그래서 아래를 사용해 문장이나 문단을 분할할 때 앞 조각 일부분을 가져옥게 만든다. 문서 사이에 겹치는 부분이 생기게됨(어떤 문서의 끝부분이 다른 문서의 시작점이 된다.)\n",
    "  chunk_overlap=50\n",
    ")\n",
    "\n",
    "splitter2 = CharacterTextSplitter.from_tiktoken_encoder(\n",
    "  separator=\"\\n\",\n",
    "  #글자 갯수 600 기준 seperator를 기준으로 자름\n",
    "  chunk_size=600,\n",
    "  chunk_overlap=100,\n",
    "  length_function=len\n",
    ")\n",
    "\n",
    "\n",
    "loader = TextLoader(\"./files/chapter_one.txt\")\n",
    "\n",
    "\"\"\"\n",
    "- data connection\n",
    "    - source\n",
    "    - transform- split\n",
    "    - embedded\n",
    "    - store\n",
    "    - retrieve\n",
    "\"\"\"\n",
    "#문서가 너무 크기 때문에 나누는 작업을 한다.\n",
    "#파일을 전달할 때 질문에 답해야할 때 필요한 파일의 부분들만을 전달할 수 있다.\n",
    "#loader.load()\n",
    "\n",
    "docs = loader.load()\n",
    "\n",
    "loader.load_and_split(text_splitter=splitter)"
   ]
  },
  {
   "cell_type": "code",
   "execution_count": null,
   "metadata": {},
   "outputs": [],
   "source": [
    "\n",
    "#token!=letter\n",
    "\n",
    "#embedding- 사람이 읽는 텍스트를 컴퓨터가 이해할 수 있는 숫자들로 변환하는 작업, 벡터를 만드는 작업\n",
    "#https://www.youtube.com/watch?v=2eWuYf-aZE4 영상 참고\n",
    "#단어를 숫자로 치환하면 단어끼리 연산을 할 수 있게됨\n",
    "#문서를 숫자로 바꾸면 벡터에대한 검색을 할 수 있게 된다. 추천 알고리즘이 동작하는 방식\n",
    "# 어떤 벡터가 가까운지 알 수 있고\n"
   ]
  },
  {
   "cell_type": "code",
   "execution_count": null,
   "metadata": {},
   "outputs": [],
   "source": [
    "from langchain.embeddings import OpenAIEmbeddings\n",
    "\n",
    "embedder = OpenAIEmbeddings()\n",
    "\n",
    "#hi를 표현하는 vector\n",
    "vector = embedder.embed_query(\"Hi\")\n",
    "embedder.embed_documents([\"hii\", \"how\", \"are\", \"you\"])"
   ]
  },
  {
   "cell_type": "code",
   "execution_count": null,
   "metadata": {},
   "outputs": [],
   "source": [
    "#매번 코드를 실행할때마다 embed를 실행하는것은 좋은것이 아니기 때문에 Embedding을 저장한다.\n",
    "#vector store는 일종의 데이터베이스로 벡터 공간에서 검색할 수 있게 해준다.\n",
    "#벡터를 생성하고 캐시해서 스토어에 넣어주면 검색할 수 있다.관련있는 문서만을 찾을 수 있음\n",
    "#chroma\n",
    "\n",
    "from langchain.vectorstores.chroma import Chroma\n",
    "from langchain.embeddings import OpenAIEmbeddings, CacheBackedEmbeddings\n",
    "from langchain.storage import LocalFileStore\n",
    "\n",
    "\n",
    "cache_dir = LocalFileStore(\"./.cache/\")\n",
    "\n",
    "docs = loader.load_and_split(text_splitter=splitter)\n",
    "\n",
    "embeddings = OpenAIEmbeddings()\n",
    "\n",
    "cached_embeddings = CacheBackedEmbeddings.from_bytes_store(\n",
    "  embeddings, cache_dir\n",
    ")\n",
    "\n",
    "#캐시를 먼저 확인\n",
    "vectorstore = Chroma.from_documents(docs, cached_embeddings)\n",
    "\n",
    "#문서는 모두 벡터로 바뀌었고 이제 벡터 공간에서 검색할 수 있다.\n",
    "vectorstore.similarity_search(\"where does winston live\")"
   ]
  },
  {
   "cell_type": "code",
   "execution_count": null,
   "metadata": {},
   "outputs": [],
   "source": [
    "from langchain.chains import RetrievalQA\n",
    "from langchain.chat_models import ChatOpenAI\n",
    "\n",
    "llm = ChatOpenAI()\n",
    "\n",
    "chain = RetrievalQA.from_chain_type(\n",
    "  llm=llm,\n",
    "  chain_type=\"stuff\",\n",
    "  #document를 ㅁ낳은 장소로부터 선별하여 가져옴\n",
    "  retriever=vectorstore.as_retriever()\n",
    ")\n",
    "\n",
    "chain.run(\"where does winston live?\")"
   ]
  }
 ],
 "metadata": {
  "kernelspec": {
   "display_name": "env",
   "language": "python",
   "name": "python3"
  },
  "language_info": {
   "codemirror_mode": {
    "name": "ipython",
    "version": 3
   },
   "file_extension": ".py",
   "mimetype": "text/x-python",
   "name": "python",
   "nbconvert_exporter": "python",
   "pygments_lexer": "ipython3",
   "version": "3.11.9"
  }
 },
 "nbformat": 4,
 "nbformat_minor": 2
}
