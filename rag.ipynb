{
 "cells": [
  {
   "cell_type": "code",
   "execution_count": 1,
   "metadata": {},
   "outputs": [],
   "source": [
    "# pdf를 위한 Loader, docx를 위한 loader... 등 각각의 loader를 찾는 대신 UnstructuredFileLoader를 사용할 수 있음, 각각의 파일을 열기 위해 패키지들을 다운로드할수도 있음\n",
    "from langchain.document_loaders import  TextLoader, PyPDFLoader, UnstructuredFileLoader\n",
    "from langchain.text_splitter import RecursiveCharacterTextSplitter, CharacterTextSplitter\n",
    "\n",
    "#CharaterTextSplitter는 seperator가 따로 있어서 특정 문자열을 찾은 다음에 거기부터 끊는다.\n",
    "#문장의 끝이나 문단의 끝부분마다 끊어준다. 최대한 문장 중간에서 분할하지 않는다.\n",
    "splitter = RecursiveCharacterTextSplitter(\n",
    "  chunk_size=200,\n",
    "  #위에것만 사용하면 문단 중간에 그냥 잘릴수도 있음, 그래서 아래를 사용해 문장이나 문단을 분할할 때 앞 조각 일부분을 가져옥게 만든다. 문서 사이에 겹치는 부분이 생기게됨(어떤 문서의 끝부분이 다른 문서의 시작점이 된다.)\n",
    "  chunk_overlap=50\n",
    ")\n",
    "\n",
    "splitter2 = CharacterTextSplitter(\n",
    "  separator=\"\\n\",\n",
    "  #글자 갯수 600 기준 seperator를 기준으로 자름\n",
    "  chunk_size=600,\n",
    "  chunk_overlap=100,\n",
    "  length_function=len\n",
    ")\n",
    "\n",
    "\n",
    "loader = TextLoader(\"./files/chapter_one.txt\")\n",
    "\n",
    "\"\"\"\n",
    "- data connection\n",
    "    - source\n",
    "    - transform- split\n",
    "    - embedded\n",
    "    - store\n",
    "    - retrieve\n",
    "\"\"\"\n",
    "#문서가 너무 크기 때문에 나누는 작업을 한다.\n",
    "#파일을 전달할 때 질문에 답해야할 때 필요한 파일의 부분들만을 전달할 수 있다.\n",
    "#loader.load()\n",
    "\n",
    "docs = loader.load()\n",
    "\n",
    "loader.load_and_split(text_splitter=splitter)"
   ]
  },
  {
   "cell_type": "code",
   "execution_count": null,
   "metadata": {},
   "outputs": [],
   "source": [
    "\n"
   ]
  }
 ],
 "metadata": {
  "kernelspec": {
   "display_name": "env",
   "language": "python",
   "name": "python3"
  },
  "language_info": {
   "codemirror_mode": {
    "name": "ipython",
    "version": 3
   },
   "file_extension": ".py",
   "mimetype": "text/x-python",
   "name": "python",
   "nbconvert_exporter": "python",
   "pygments_lexer": "ipython3",
   "version": "3.11.9"
  }
 },
 "nbformat": 4,
 "nbformat_minor": 2
}
